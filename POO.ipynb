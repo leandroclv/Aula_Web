{
 "cells": [
  {
   "cell_type": "code",
   "execution_count": 17,
   "id": "3c9bea7f-4b97-47da-91c7-190293ee2167",
   "metadata": {},
   "outputs": [],
   "source": [
    "#criando uma pilha vazia\n",
    "pilha = []"
   ]
  },
  {
   "cell_type": "code",
   "execution_count": 18,
   "id": "1e3dffc1-2756-4881-bc4c-681619d97606",
   "metadata": {},
   "outputs": [],
   "source": [
    "#Adicionando elementos à pilha (emplihando)\n",
    "#pilha.append('prato 1')\n",
    "for i in range(1,11):\n",
    "    pilha.append(f'prato {i}')"
   ]
  },
  {
   "cell_type": "code",
   "execution_count": 19,
   "id": "6f35d047-e51b-4d2f-bec5-a48d7df478d7",
   "metadata": {},
   "outputs": [
    {
     "name": "stdout",
     "output_type": "stream",
     "text": [
      "['prato 1', 'prato 2', 'prato 3', 'prato 4', 'prato 5', 'prato 6', 'prato 7', 'prato 8', 'prato 9', 'prato 10']\n"
     ]
    }
   ],
   "source": [
    "print(pilha)"
   ]
  },
  {
   "cell_type": "code",
   "execution_count": 20,
   "id": "932c1d0f-e735-4f6f-8b1a-316743923d5c",
   "metadata": {},
   "outputs": [
    {
     "data": {
      "text/plain": [
       "'prato 10'"
      ]
     },
     "execution_count": 20,
     "metadata": {},
     "output_type": "execute_result"
    }
   ],
   "source": [
    "#remover o último da pilha\n",
    "pilha.pop()"
   ]
  },
  {
   "cell_type": "code",
   "execution_count": 21,
   "id": "289bff45-c44e-4a72-b61a-8b83d2124519",
   "metadata": {},
   "outputs": [
    {
     "name": "stdout",
     "output_type": "stream",
     "text": [
      "['prato 1', 'prato 2', 'prato 3', 'prato 4', 'prato 5', 'prato 6', 'prato 7', 'prato 8', 'prato 9']\n"
     ]
    }
   ],
   "source": [
    "print(pilha)"
   ]
  },
  {
   "cell_type": "code",
   "execution_count": 22,
   "id": "60ed12c5-0a24-47e4-960a-d1bd5d56b0cd",
   "metadata": {},
   "outputs": [
    {
     "name": "stdout",
     "output_type": "stream",
     "text": [
      "['Pessoa 1', 'Pessoa 2', 'Pessoa 3', 'Pessoa 4', 'Pessoa 5']\n"
     ]
    }
   ],
   "source": [
    "#criando uma fila\n",
    "fila=[]\n",
    "\n",
    "#adicionando elementos à fila\n",
    "for i in range(5):\n",
    "    fila.append(f'Pessoa {i + 1}')\n",
    "\n",
    "print(fila)"
   ]
  },
  {
   "cell_type": "code",
   "execution_count": 23,
   "id": "5be6b9c4-acd8-42de-a2fb-4a78bc27572c",
   "metadata": {},
   "outputs": [],
   "source": [
    "def somar(n1,n2):\n",
    "    soma = n1 + n2\n",
    "    print(f'A soma de {n1} e {n2} é: {soma}')"
   ]
  },
  {
   "cell_type": "code",
   "execution_count": 24,
   "id": "85b4b584-7f89-47e1-95ef-cdfd743ff113",
   "metadata": {},
   "outputs": [
    {
     "name": "stdout",
     "output_type": "stream",
     "text": [
      "A soma de 20 e 5 é: 25\n"
     ]
    }
   ],
   "source": [
    "somar(20,5)"
   ]
  },
  {
   "cell_type": "code",
   "execution_count": 1,
   "id": "8e56eaeb-a1fd-41ac-b36e-1b9c0d48f3eb",
   "metadata": {},
   "outputs": [
    {
     "name": "stdout",
     "output_type": "stream",
     "text": [
      "14\n"
     ]
    }
   ],
   "source": [
    "array = [2,4,5,7,8]\n",
    "soma = 0\n",
    "for num in array:\n",
    "    if num % 2 == 0:\n",
    "        soma += num\n",
    "print(soma)"
   ]
  },
  {
   "cell_type": "code",
   "execution_count": 1,
   "id": "1062036e-8e11-4b3a-816f-6fd9b04f768a",
   "metadata": {},
   "outputs": [
    {
     "name": "stdout",
     "output_type": "stream",
     "text": [
      "Antes da ordenação: [64, 25, 12, 22, 11]\n",
      "Depois da ordenação: [11, 12, 22, 25, 64]\n"
     ]
    }
   ],
   "source": [
    "def selection_sort(lista):\n",
    "    n = len(lista)\n",
    "    for i in range(n):\n",
    "        #Encontra o menor elemento \n",
    "        min_index = i\n",
    "        for j in range(i + 1, n):\n",
    "            if lista[j] < lista[min_index]:\n",
    "                min_index = j\n",
    "        #troca o menos elemento encontrado\n",
    "        lista[i], lista[min_index] = lista[min_index], lista[i]\n",
    "\n",
    "valores = [64,25,12,22,11]\n",
    "print(f'Antes da ordenação: {valores}')\n",
    "selection_sort(valores)\n",
    "print(f'Depois da ordenação: {valores}')\n"
   ]
  },
  {
   "cell_type": "code",
   "execution_count": 2,
   "id": "90595a7a-dbf8-4e26-93e3-999ae6876eae",
   "metadata": {},
   "outputs": [
    {
     "name": "stdout",
     "output_type": "stream",
     "text": [
      "Welligton está atribuindo a nota 1.5 para Guilherme\n",
      "Guilherme recebeu a nota 1.5\n"
     ]
    }
   ],
   "source": [
    "class Aluno:\n",
    "    def __init__(self, nome):\n",
    "        self.nome = nome\n",
    "        self.nota = None\n",
    "\n",
    "    def receber_nota(self, nota):\n",
    "        self.nota = nota\n",
    "        print(f'{self.nome} recebeu a nota {self.nota}')\n",
    "\n",
    "class Professor:\n",
    "    def __init__(self, nome):\n",
    "        self.nome = nome\n",
    "\n",
    "    def atribuir_nota(self, aluno, nota):\n",
    "        print(f'{self.nome} está atribuindo a nota {nota} para {aluno.nome}')\n",
    "        aluno.receber_nota(nota)\n",
    "\n",
    "aluno1 = Aluno('Guilherme')\n",
    "professor = Professor('Welligton')\n",
    "professor.atribuir_nota(aluno1, 1.5)\n",
    "\n"
   ]
  },
  {
   "cell_type": "code",
   "execution_count": 4,
   "id": "fc4dba9a-de35-4f5f-9b52-49b8e68f0994",
   "metadata": {},
   "outputs": [
    {
     "ename": "NameError",
     "evalue": "name 'self' is not defined",
     "output_type": "error",
     "traceback": [
      "\u001b[0;31m---------------------------------------------------------------------------\u001b[0m",
      "\u001b[0;31mNameError\u001b[0m                                 Traceback (most recent call last)",
      "Cell \u001b[0;32mIn[4], line 14\u001b[0m\n\u001b[1;32m     11\u001b[0m         \u001b[38;5;28;01mif\u001b[39;00m leitura:\n\u001b[1;32m     12\u001b[0m             \u001b[38;5;28mprint\u001b[39m(\u001b[38;5;124mf\u001b[39m\u001b[38;5;124m'\u001b[39m\u001b[38;5;124mO livro \u001b[39m\u001b[38;5;124m\"\u001b[39m\u001b[38;5;132;01m{\u001b[39;00m\u001b[38;5;28mself\u001b[39m\u001b[38;5;241m.\u001b[39mlivro\u001b[38;5;132;01m}\u001b[39;00m\u001b[38;5;124m\"\u001b[39m\u001b[38;5;124m foi lido por \u001b[39m\u001b[38;5;132;01m{\u001b[39;00m\u001b[38;5;28mself\u001b[39m\u001b[38;5;241m.\u001b[39mnome\u001b[38;5;132;01m}\u001b[39;00m\u001b[38;5;124m'\u001b[39m)\n\u001b[0;32m---> 14\u001b[0m \u001b[38;5;28;01mclass\u001b[39;00m \u001b[38;5;21;01mPessoa\u001b[39;00m(\u001b[38;5;28mself\u001b[39m,nome):\n\u001b[1;32m     15\u001b[0m     \u001b[38;5;28;01mdef\u001b[39;00m \u001b[38;5;21m__init__\u001b[39m(\u001b[38;5;28mself\u001b[39m, nome):\n\u001b[1;32m     16\u001b[0m         \u001b[38;5;28mself\u001b[39m\u001b[38;5;241m.\u001b[39mnome \u001b[38;5;241m=\u001b[39m nome\n",
      "\u001b[0;31mNameError\u001b[0m: name 'self' is not defined"
     ]
    }
   ],
   "source": [
    "#Classe livro\n",
    "#Classe Pessoa\n",
    "#Wellington está lendo o livro \"O senhor dos Aneis.\"\n",
    "#O livro \"O senhor dos Aneis\" foi lido por Wellington\n",
    "class Livro:\n",
    "    def __init__(self,livro):\n",
    "        self.livro = livro\n",
    "\n",
    "    def ler_livro(self, leitura):\n",
    "        leitura = True\n",
    "        if leitura:\n",
    "            print(f'O livro \"{self.livro}\" foi lido por {self.nome}')\n",
    "        \n",
    "class Pessoa(self,nome):\n",
    "    def __init__(self, nome):\n",
    "        self.nome = nome\n",
    "        print(f'{self.nome} está lendo o livro \"{self.livro}\".')\n",
    "\n",
    "livro1 = Livro('O senhor dos anéis')\n",
    "leitor = Pessoa('Wellington')\n",
    "leitor.ler_livro(livro1)\n"
   ]
  },
  {
   "cell_type": "code",
   "execution_count": 7,
   "id": "2a086541-d0ca-4312-a540-755b0274345a",
   "metadata": {},
   "outputs": [
    {
     "name": "stdout",
     "output_type": "stream",
     "text": [
      "Welligton esrá lendo o livro \"O senhor dos Anéis\".\n",
      "O livro \"O senhor dos Anéis\" foi lido\n"
     ]
    }
   ],
   "source": [
    "class Livro:\n",
    "    def __init__(self, titulo):\n",
    "        self.titulo = titulo\n",
    "        self.foi_lido = False\n",
    "\n",
    "    def marcar_como_lido(self):\n",
    "        self.foi_lido = True\n",
    "        print(f'O livro \"{self.titulo}\" foi lido por {')\n",
    "\n",
    "class Pessoa:\n",
    "    def __init__(self, nome):\n",
    "        self.nome = nome\n",
    "\n",
    "    def ler_livro(self, livro):\n",
    "        print(f'{self.nome} esrá lendo o livro \"{livro.titulo}\".')\n",
    "        livro.marcar_como_lido()\n",
    "\n",
    "livro1 = Livro('O senhor dos Anéis')\n",
    "pessoa = Pessoa(\"Welligton\")\n",
    "\n",
    "pessoa.ler_livro(livro1)"
   ]
  },
  {
   "cell_type": "code",
   "execution_count": 1,
   "id": "95407478-9c04-4bd4-801b-9d0ead113391",
   "metadata": {},
   "outputs": [],
   "source": [
    "#Fatorial\n",
    "def fatorial(n):\n",
    "    if n == 0 or n == 1:\n",
    "        return 1\n",
    "    else:\n",
    "        return n * fatorial(n -1)"
   ]
  },
  {
   "cell_type": "code",
   "execution_count": 2,
   "id": "05e93814-3416-4d10-9c86-aaa21566d600",
   "metadata": {},
   "outputs": [
    {
     "data": {
      "text/plain": [
       "3628800"
      ]
     },
     "execution_count": 2,
     "metadata": {},
     "output_type": "execute_result"
    }
   ],
   "source": [
    "fatorial(10)"
   ]
  },
  {
   "cell_type": "code",
   "execution_count": 3,
   "id": "3bd776d2-852d-4d1f-b5eb-73968246faa1",
   "metadata": {},
   "outputs": [
    {
     "data": {
      "text/plain": [
       "6"
      ]
     },
     "execution_count": 3,
     "metadata": {},
     "output_type": "execute_result"
    }
   ],
   "source": [
    "fatorial(3)"
   ]
  },
  {
   "cell_type": "code",
   "execution_count": null,
   "id": "36f51e81-cb75-47a2-8dab-411e24a6dd4e",
   "metadata": {},
   "outputs": [],
   "source": [
    "def fatorial2(n):\n",
    "    redult = 1\n",
    "    for i in range(2, n+1):\n",
    "        result *= i\n",
    "    return result"
   ]
  }
 ],
 "metadata": {
  "kernelspec": {
   "display_name": "Python 3 (ipykernel)",
   "language": "python",
   "name": "python3"
  },
  "language_info": {
   "codemirror_mode": {
    "name": "ipython",
    "version": 3
   },
   "file_extension": ".py",
   "mimetype": "text/x-python",
   "name": "python",
   "nbconvert_exporter": "python",
   "pygments_lexer": "ipython3",
   "version": "3.12.5"
  }
 },
 "nbformat": 4,
 "nbformat_minor": 5
}
